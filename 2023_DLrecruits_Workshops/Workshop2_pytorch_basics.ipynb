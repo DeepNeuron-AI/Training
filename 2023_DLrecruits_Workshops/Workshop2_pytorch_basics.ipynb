{
  "nbformat": 4,
  "nbformat_minor": 0,
  "metadata": {
    "colab": {
      "provenance": [],
      "collapsed_sections": [
        "DRg9lPG_p8eJ",
        "rDW-ZDVBD22K",
        "V8wBUUeL_-qK",
        "4hofo74wSICk",
        "fkdTxBExWWel",
        "IwPrfNv1Xmel",
        "z2ICnZT2y600",
        "1J2engqjfpgT",
        "VsCrwSH7iUtM",
        "hUExLGhizr7A",
        "HYuAkKIc5nL2",
        "YDeGfm2QF6Qp",
        "_3OuYgqZaBir"
      ]
    },
    "kernelspec": {
      "name": "python3",
      "display_name": "Python 3"
    },
    "language_info": {
      "name": "python"
    },
    "accelerator": "GPU",
    "gpuClass": "standard",
    "widgets": {
      "application/vnd.jupyter.widget-state+json": {
        "be6ae3d324194f2c858ab7aa21f17622": {
          "model_module": "@jupyter-widgets/controls",
          "model_name": "HBoxModel",
          "model_module_version": "1.5.0",
          "state": {
            "_dom_classes": [],
            "_model_module": "@jupyter-widgets/controls",
            "_model_module_version": "1.5.0",
            "_model_name": "HBoxModel",
            "_view_count": null,
            "_view_module": "@jupyter-widgets/controls",
            "_view_module_version": "1.5.0",
            "_view_name": "HBoxView",
            "box_style": "",
            "children": [
              "IPY_MODEL_da5034a4cc2646d99c667374cd4b6f11",
              "IPY_MODEL_a730a1a43b134eca8f8de929fd4dfd44",
              "IPY_MODEL_705179273dfe429b96b782031e3d7c67"
            ],
            "layout": "IPY_MODEL_f3da76b32e3b4b29b11fc0003dd9006b"
          }
        },
        "da5034a4cc2646d99c667374cd4b6f11": {
          "model_module": "@jupyter-widgets/controls",
          "model_name": "HTMLModel",
          "model_module_version": "1.5.0",
          "state": {
            "_dom_classes": [],
            "_model_module": "@jupyter-widgets/controls",
            "_model_module_version": "1.5.0",
            "_model_name": "HTMLModel",
            "_view_count": null,
            "_view_module": "@jupyter-widgets/controls",
            "_view_module_version": "1.5.0",
            "_view_name": "HTMLView",
            "description": "",
            "description_tooltip": null,
            "layout": "IPY_MODEL_4e610828bac24ea893f00c1d75f973e2",
            "placeholder": "​",
            "style": "IPY_MODEL_d2cc894794aa4dc2ba4af3ef3aaa8e0b",
            "value": "100%"
          }
        },
        "a730a1a43b134eca8f8de929fd4dfd44": {
          "model_module": "@jupyter-widgets/controls",
          "model_name": "FloatProgressModel",
          "model_module_version": "1.5.0",
          "state": {
            "_dom_classes": [],
            "_model_module": "@jupyter-widgets/controls",
            "_model_module_version": "1.5.0",
            "_model_name": "FloatProgressModel",
            "_view_count": null,
            "_view_module": "@jupyter-widgets/controls",
            "_view_module_version": "1.5.0",
            "_view_name": "ProgressView",
            "bar_style": "success",
            "description": "",
            "description_tooltip": null,
            "layout": "IPY_MODEL_8a633e949a734107bfe656c2079302fa",
            "max": 782,
            "min": 0,
            "orientation": "horizontal",
            "style": "IPY_MODEL_8f744f7559134f6d83aa9b3ebd748b0f",
            "value": 782
          }
        },
        "705179273dfe429b96b782031e3d7c67": {
          "model_module": "@jupyter-widgets/controls",
          "model_name": "HTMLModel",
          "model_module_version": "1.5.0",
          "state": {
            "_dom_classes": [],
            "_model_module": "@jupyter-widgets/controls",
            "_model_module_version": "1.5.0",
            "_model_name": "HTMLModel",
            "_view_count": null,
            "_view_module": "@jupyter-widgets/controls",
            "_view_module_version": "1.5.0",
            "_view_name": "HTMLView",
            "description": "",
            "description_tooltip": null,
            "layout": "IPY_MODEL_43be27f3c24a48208146120fb9a75b3f",
            "placeholder": "​",
            "style": "IPY_MODEL_383ccd3dbd664d73816739827e358616",
            "value": " 782/782 [00:07&lt;00:00, 78.65it/s]"
          }
        },
        "f3da76b32e3b4b29b11fc0003dd9006b": {
          "model_module": "@jupyter-widgets/base",
          "model_name": "LayoutModel",
          "model_module_version": "1.2.0",
          "state": {
            "_model_module": "@jupyter-widgets/base",
            "_model_module_version": "1.2.0",
            "_model_name": "LayoutModel",
            "_view_count": null,
            "_view_module": "@jupyter-widgets/base",
            "_view_module_version": "1.2.0",
            "_view_name": "LayoutView",
            "align_content": null,
            "align_items": null,
            "align_self": null,
            "border": null,
            "bottom": null,
            "display": null,
            "flex": null,
            "flex_flow": null,
            "grid_area": null,
            "grid_auto_columns": null,
            "grid_auto_flow": null,
            "grid_auto_rows": null,
            "grid_column": null,
            "grid_gap": null,
            "grid_row": null,
            "grid_template_areas": null,
            "grid_template_columns": null,
            "grid_template_rows": null,
            "height": null,
            "justify_content": null,
            "justify_items": null,
            "left": null,
            "margin": null,
            "max_height": null,
            "max_width": null,
            "min_height": null,
            "min_width": null,
            "object_fit": null,
            "object_position": null,
            "order": null,
            "overflow": null,
            "overflow_x": null,
            "overflow_y": null,
            "padding": null,
            "right": null,
            "top": null,
            "visibility": null,
            "width": null
          }
        },
        "4e610828bac24ea893f00c1d75f973e2": {
          "model_module": "@jupyter-widgets/base",
          "model_name": "LayoutModel",
          "model_module_version": "1.2.0",
          "state": {
            "_model_module": "@jupyter-widgets/base",
            "_model_module_version": "1.2.0",
            "_model_name": "LayoutModel",
            "_view_count": null,
            "_view_module": "@jupyter-widgets/base",
            "_view_module_version": "1.2.0",
            "_view_name": "LayoutView",
            "align_content": null,
            "align_items": null,
            "align_self": null,
            "border": null,
            "bottom": null,
            "display": null,
            "flex": null,
            "flex_flow": null,
            "grid_area": null,
            "grid_auto_columns": null,
            "grid_auto_flow": null,
            "grid_auto_rows": null,
            "grid_column": null,
            "grid_gap": null,
            "grid_row": null,
            "grid_template_areas": null,
            "grid_template_columns": null,
            "grid_template_rows": null,
            "height": null,
            "justify_content": null,
            "justify_items": null,
            "left": null,
            "margin": null,
            "max_height": null,
            "max_width": null,
            "min_height": null,
            "min_width": null,
            "object_fit": null,
            "object_position": null,
            "order": null,
            "overflow": null,
            "overflow_x": null,
            "overflow_y": null,
            "padding": null,
            "right": null,
            "top": null,
            "visibility": null,
            "width": null
          }
        },
        "d2cc894794aa4dc2ba4af3ef3aaa8e0b": {
          "model_module": "@jupyter-widgets/controls",
          "model_name": "DescriptionStyleModel",
          "model_module_version": "1.5.0",
          "state": {
            "_model_module": "@jupyter-widgets/controls",
            "_model_module_version": "1.5.0",
            "_model_name": "DescriptionStyleModel",
            "_view_count": null,
            "_view_module": "@jupyter-widgets/base",
            "_view_module_version": "1.2.0",
            "_view_name": "StyleView",
            "description_width": ""
          }
        },
        "8a633e949a734107bfe656c2079302fa": {
          "model_module": "@jupyter-widgets/base",
          "model_name": "LayoutModel",
          "model_module_version": "1.2.0",
          "state": {
            "_model_module": "@jupyter-widgets/base",
            "_model_module_version": "1.2.0",
            "_model_name": "LayoutModel",
            "_view_count": null,
            "_view_module": "@jupyter-widgets/base",
            "_view_module_version": "1.2.0",
            "_view_name": "LayoutView",
            "align_content": null,
            "align_items": null,
            "align_self": null,
            "border": null,
            "bottom": null,
            "display": null,
            "flex": null,
            "flex_flow": null,
            "grid_area": null,
            "grid_auto_columns": null,
            "grid_auto_flow": null,
            "grid_auto_rows": null,
            "grid_column": null,
            "grid_gap": null,
            "grid_row": null,
            "grid_template_areas": null,
            "grid_template_columns": null,
            "grid_template_rows": null,
            "height": null,
            "justify_content": null,
            "justify_items": null,
            "left": null,
            "margin": null,
            "max_height": null,
            "max_width": null,
            "min_height": null,
            "min_width": null,
            "object_fit": null,
            "object_position": null,
            "order": null,
            "overflow": null,
            "overflow_x": null,
            "overflow_y": null,
            "padding": null,
            "right": null,
            "top": null,
            "visibility": null,
            "width": null
          }
        },
        "8f744f7559134f6d83aa9b3ebd748b0f": {
          "model_module": "@jupyter-widgets/controls",
          "model_name": "ProgressStyleModel",
          "model_module_version": "1.5.0",
          "state": {
            "_model_module": "@jupyter-widgets/controls",
            "_model_module_version": "1.5.0",
            "_model_name": "ProgressStyleModel",
            "_view_count": null,
            "_view_module": "@jupyter-widgets/base",
            "_view_module_version": "1.2.0",
            "_view_name": "StyleView",
            "bar_color": null,
            "description_width": ""
          }
        },
        "43be27f3c24a48208146120fb9a75b3f": {
          "model_module": "@jupyter-widgets/base",
          "model_name": "LayoutModel",
          "model_module_version": "1.2.0",
          "state": {
            "_model_module": "@jupyter-widgets/base",
            "_model_module_version": "1.2.0",
            "_model_name": "LayoutModel",
            "_view_count": null,
            "_view_module": "@jupyter-widgets/base",
            "_view_module_version": "1.2.0",
            "_view_name": "LayoutView",
            "align_content": null,
            "align_items": null,
            "align_self": null,
            "border": null,
            "bottom": null,
            "display": null,
            "flex": null,
            "flex_flow": null,
            "grid_area": null,
            "grid_auto_columns": null,
            "grid_auto_flow": null,
            "grid_auto_rows": null,
            "grid_column": null,
            "grid_gap": null,
            "grid_row": null,
            "grid_template_areas": null,
            "grid_template_columns": null,
            "grid_template_rows": null,
            "height": null,
            "justify_content": null,
            "justify_items": null,
            "left": null,
            "margin": null,
            "max_height": null,
            "max_width": null,
            "min_height": null,
            "min_width": null,
            "object_fit": null,
            "object_position": null,
            "order": null,
            "overflow": null,
            "overflow_x": null,
            "overflow_y": null,
            "padding": null,
            "right": null,
            "top": null,
            "visibility": null,
            "width": null
          }
        },
        "383ccd3dbd664d73816739827e358616": {
          "model_module": "@jupyter-widgets/controls",
          "model_name": "DescriptionStyleModel",
          "model_module_version": "1.5.0",
          "state": {
            "_model_module": "@jupyter-widgets/controls",
            "_model_module_version": "1.5.0",
            "_model_name": "DescriptionStyleModel",
            "_view_count": null,
            "_view_module": "@jupyter-widgets/base",
            "_view_module_version": "1.2.0",
            "_view_name": "StyleView",
            "description_width": ""
          }
        },
        "2fb0cdd044ea4f75b43089a7980efbd1": {
          "model_module": "@jupyter-widgets/controls",
          "model_name": "HBoxModel",
          "model_module_version": "1.5.0",
          "state": {
            "_dom_classes": [],
            "_model_module": "@jupyter-widgets/controls",
            "_model_module_version": "1.5.0",
            "_model_name": "HBoxModel",
            "_view_count": null,
            "_view_module": "@jupyter-widgets/controls",
            "_view_module_version": "1.5.0",
            "_view_name": "HBoxView",
            "box_style": "",
            "children": [
              "IPY_MODEL_2c620316abec42a090ef81c70a01cb88",
              "IPY_MODEL_5739b19195c24565ae2f2a64689d42e0",
              "IPY_MODEL_74362ed5c3f7400d9f8c919cdeeefefc"
            ],
            "layout": "IPY_MODEL_fa893f5804084f9c91703dcf98220127"
          }
        },
        "2c620316abec42a090ef81c70a01cb88": {
          "model_module": "@jupyter-widgets/controls",
          "model_name": "HTMLModel",
          "model_module_version": "1.5.0",
          "state": {
            "_dom_classes": [],
            "_model_module": "@jupyter-widgets/controls",
            "_model_module_version": "1.5.0",
            "_model_name": "HTMLModel",
            "_view_count": null,
            "_view_module": "@jupyter-widgets/controls",
            "_view_module_version": "1.5.0",
            "_view_name": "HTMLView",
            "description": "",
            "description_tooltip": null,
            "layout": "IPY_MODEL_6947b2b23c874b279620dfea6d58819e",
            "placeholder": "​",
            "style": "IPY_MODEL_a597373d3e174de9abebf9ff339386c6",
            "value": "100%"
          }
        },
        "5739b19195c24565ae2f2a64689d42e0": {
          "model_module": "@jupyter-widgets/controls",
          "model_name": "FloatProgressModel",
          "model_module_version": "1.5.0",
          "state": {
            "_dom_classes": [],
            "_model_module": "@jupyter-widgets/controls",
            "_model_module_version": "1.5.0",
            "_model_name": "FloatProgressModel",
            "_view_count": null,
            "_view_module": "@jupyter-widgets/controls",
            "_view_module_version": "1.5.0",
            "_view_name": "ProgressView",
            "bar_style": "success",
            "description": "",
            "description_tooltip": null,
            "layout": "IPY_MODEL_a9676c0abf344b92be9a9a7b1f784103",
            "max": 157,
            "min": 0,
            "orientation": "horizontal",
            "style": "IPY_MODEL_b151a06717e14e49ab46cfa6b8d86eca",
            "value": 157
          }
        },
        "74362ed5c3f7400d9f8c919cdeeefefc": {
          "model_module": "@jupyter-widgets/controls",
          "model_name": "HTMLModel",
          "model_module_version": "1.5.0",
          "state": {
            "_dom_classes": [],
            "_model_module": "@jupyter-widgets/controls",
            "_model_module_version": "1.5.0",
            "_model_name": "HTMLModel",
            "_view_count": null,
            "_view_module": "@jupyter-widgets/controls",
            "_view_module_version": "1.5.0",
            "_view_name": "HTMLView",
            "description": "",
            "description_tooltip": null,
            "layout": "IPY_MODEL_3ef76f203afc4791aea8daeb5a58aa12",
            "placeholder": "​",
            "style": "IPY_MODEL_0184b3daa53c4894b4815a83788a62e0",
            "value": " 157/157 [00:02&lt;00:00, 67.35it/s]"
          }
        },
        "fa893f5804084f9c91703dcf98220127": {
          "model_module": "@jupyter-widgets/base",
          "model_name": "LayoutModel",
          "model_module_version": "1.2.0",
          "state": {
            "_model_module": "@jupyter-widgets/base",
            "_model_module_version": "1.2.0",
            "_model_name": "LayoutModel",
            "_view_count": null,
            "_view_module": "@jupyter-widgets/base",
            "_view_module_version": "1.2.0",
            "_view_name": "LayoutView",
            "align_content": null,
            "align_items": null,
            "align_self": null,
            "border": null,
            "bottom": null,
            "display": null,
            "flex": null,
            "flex_flow": null,
            "grid_area": null,
            "grid_auto_columns": null,
            "grid_auto_flow": null,
            "grid_auto_rows": null,
            "grid_column": null,
            "grid_gap": null,
            "grid_row": null,
            "grid_template_areas": null,
            "grid_template_columns": null,
            "grid_template_rows": null,
            "height": null,
            "justify_content": null,
            "justify_items": null,
            "left": null,
            "margin": null,
            "max_height": null,
            "max_width": null,
            "min_height": null,
            "min_width": null,
            "object_fit": null,
            "object_position": null,
            "order": null,
            "overflow": null,
            "overflow_x": null,
            "overflow_y": null,
            "padding": null,
            "right": null,
            "top": null,
            "visibility": null,
            "width": null
          }
        },
        "6947b2b23c874b279620dfea6d58819e": {
          "model_module": "@jupyter-widgets/base",
          "model_name": "LayoutModel",
          "model_module_version": "1.2.0",
          "state": {
            "_model_module": "@jupyter-widgets/base",
            "_model_module_version": "1.2.0",
            "_model_name": "LayoutModel",
            "_view_count": null,
            "_view_module": "@jupyter-widgets/base",
            "_view_module_version": "1.2.0",
            "_view_name": "LayoutView",
            "align_content": null,
            "align_items": null,
            "align_self": null,
            "border": null,
            "bottom": null,
            "display": null,
            "flex": null,
            "flex_flow": null,
            "grid_area": null,
            "grid_auto_columns": null,
            "grid_auto_flow": null,
            "grid_auto_rows": null,
            "grid_column": null,
            "grid_gap": null,
            "grid_row": null,
            "grid_template_areas": null,
            "grid_template_columns": null,
            "grid_template_rows": null,
            "height": null,
            "justify_content": null,
            "justify_items": null,
            "left": null,
            "margin": null,
            "max_height": null,
            "max_width": null,
            "min_height": null,
            "min_width": null,
            "object_fit": null,
            "object_position": null,
            "order": null,
            "overflow": null,
            "overflow_x": null,
            "overflow_y": null,
            "padding": null,
            "right": null,
            "top": null,
            "visibility": null,
            "width": null
          }
        },
        "a597373d3e174de9abebf9ff339386c6": {
          "model_module": "@jupyter-widgets/controls",
          "model_name": "DescriptionStyleModel",
          "model_module_version": "1.5.0",
          "state": {
            "_model_module": "@jupyter-widgets/controls",
            "_model_module_version": "1.5.0",
            "_model_name": "DescriptionStyleModel",
            "_view_count": null,
            "_view_module": "@jupyter-widgets/base",
            "_view_module_version": "1.2.0",
            "_view_name": "StyleView",
            "description_width": ""
          }
        },
        "a9676c0abf344b92be9a9a7b1f784103": {
          "model_module": "@jupyter-widgets/base",
          "model_name": "LayoutModel",
          "model_module_version": "1.2.0",
          "state": {
            "_model_module": "@jupyter-widgets/base",
            "_model_module_version": "1.2.0",
            "_model_name": "LayoutModel",
            "_view_count": null,
            "_view_module": "@jupyter-widgets/base",
            "_view_module_version": "1.2.0",
            "_view_name": "LayoutView",
            "align_content": null,
            "align_items": null,
            "align_self": null,
            "border": null,
            "bottom": null,
            "display": null,
            "flex": null,
            "flex_flow": null,
            "grid_area": null,
            "grid_auto_columns": null,
            "grid_auto_flow": null,
            "grid_auto_rows": null,
            "grid_column": null,
            "grid_gap": null,
            "grid_row": null,
            "grid_template_areas": null,
            "grid_template_columns": null,
            "grid_template_rows": null,
            "height": null,
            "justify_content": null,
            "justify_items": null,
            "left": null,
            "margin": null,
            "max_height": null,
            "max_width": null,
            "min_height": null,
            "min_width": null,
            "object_fit": null,
            "object_position": null,
            "order": null,
            "overflow": null,
            "overflow_x": null,
            "overflow_y": null,
            "padding": null,
            "right": null,
            "top": null,
            "visibility": null,
            "width": null
          }
        },
        "b151a06717e14e49ab46cfa6b8d86eca": {
          "model_module": "@jupyter-widgets/controls",
          "model_name": "ProgressStyleModel",
          "model_module_version": "1.5.0",
          "state": {
            "_model_module": "@jupyter-widgets/controls",
            "_model_module_version": "1.5.0",
            "_model_name": "ProgressStyleModel",
            "_view_count": null,
            "_view_module": "@jupyter-widgets/base",
            "_view_module_version": "1.2.0",
            "_view_name": "StyleView",
            "bar_color": null,
            "description_width": ""
          }
        },
        "3ef76f203afc4791aea8daeb5a58aa12": {
          "model_module": "@jupyter-widgets/base",
          "model_name": "LayoutModel",
          "model_module_version": "1.2.0",
          "state": {
            "_model_module": "@jupyter-widgets/base",
            "_model_module_version": "1.2.0",
            "_model_name": "LayoutModel",
            "_view_count": null,
            "_view_module": "@jupyter-widgets/base",
            "_view_module_version": "1.2.0",
            "_view_name": "LayoutView",
            "align_content": null,
            "align_items": null,
            "align_self": null,
            "border": null,
            "bottom": null,
            "display": null,
            "flex": null,
            "flex_flow": null,
            "grid_area": null,
            "grid_auto_columns": null,
            "grid_auto_flow": null,
            "grid_auto_rows": null,
            "grid_column": null,
            "grid_gap": null,
            "grid_row": null,
            "grid_template_areas": null,
            "grid_template_columns": null,
            "grid_template_rows": null,
            "height": null,
            "justify_content": null,
            "justify_items": null,
            "left": null,
            "margin": null,
            "max_height": null,
            "max_width": null,
            "min_height": null,
            "min_width": null,
            "object_fit": null,
            "object_position": null,
            "order": null,
            "overflow": null,
            "overflow_x": null,
            "overflow_y": null,
            "padding": null,
            "right": null,
            "top": null,
            "visibility": null,
            "width": null
          }
        },
        "0184b3daa53c4894b4815a83788a62e0": {
          "model_module": "@jupyter-widgets/controls",
          "model_name": "DescriptionStyleModel",
          "model_module_version": "1.5.0",
          "state": {
            "_model_module": "@jupyter-widgets/controls",
            "_model_module_version": "1.5.0",
            "_model_name": "DescriptionStyleModel",
            "_view_count": null,
            "_view_module": "@jupyter-widgets/base",
            "_view_module_version": "1.2.0",
            "_view_name": "StyleView",
            "description_width": ""
          }
        },
        "67604d69aeed4560804d869fc634a39b": {
          "model_module": "@jupyter-widgets/controls",
          "model_name": "HBoxModel",
          "model_module_version": "1.5.0",
          "state": {
            "_dom_classes": [],
            "_model_module": "@jupyter-widgets/controls",
            "_model_module_version": "1.5.0",
            "_model_name": "HBoxModel",
            "_view_count": null,
            "_view_module": "@jupyter-widgets/controls",
            "_view_module_version": "1.5.0",
            "_view_name": "HBoxView",
            "box_style": "",
            "children": [
              "IPY_MODEL_746d6398ba9942dda5129b2b069924e7",
              "IPY_MODEL_f31d12e7bd1846b6b454334cf5811b4f",
              "IPY_MODEL_e6a89bc7f62742d386e723e3ddae190b"
            ],
            "layout": "IPY_MODEL_b116f22ce6dc4c45931b2a648c6881fe"
          }
        },
        "746d6398ba9942dda5129b2b069924e7": {
          "model_module": "@jupyter-widgets/controls",
          "model_name": "HTMLModel",
          "model_module_version": "1.5.0",
          "state": {
            "_dom_classes": [],
            "_model_module": "@jupyter-widgets/controls",
            "_model_module_version": "1.5.0",
            "_model_name": "HTMLModel",
            "_view_count": null,
            "_view_module": "@jupyter-widgets/controls",
            "_view_module_version": "1.5.0",
            "_view_name": "HTMLView",
            "description": "",
            "description_tooltip": null,
            "layout": "IPY_MODEL_05837aa699884f6f8dc7f0da6397014a",
            "placeholder": "​",
            "style": "IPY_MODEL_896c085bed6c402187c0c7da2d861b10",
            "value": " 54%"
          }
        },
        "f31d12e7bd1846b6b454334cf5811b4f": {
          "model_module": "@jupyter-widgets/controls",
          "model_name": "FloatProgressModel",
          "model_module_version": "1.5.0",
          "state": {
            "_dom_classes": [],
            "_model_module": "@jupyter-widgets/controls",
            "_model_module_version": "1.5.0",
            "_model_name": "FloatProgressModel",
            "_view_count": null,
            "_view_module": "@jupyter-widgets/controls",
            "_view_module_version": "1.5.0",
            "_view_name": "ProgressView",
            "bar_style": "",
            "description": "",
            "description_tooltip": null,
            "layout": "IPY_MODEL_be30a4d3bafc4bc8b1ce137543ea0969",
            "max": 782,
            "min": 0,
            "orientation": "horizontal",
            "style": "IPY_MODEL_d42fedd0313e4112ba4f53dd92111a6a",
            "value": 420
          }
        },
        "e6a89bc7f62742d386e723e3ddae190b": {
          "model_module": "@jupyter-widgets/controls",
          "model_name": "HTMLModel",
          "model_module_version": "1.5.0",
          "state": {
            "_dom_classes": [],
            "_model_module": "@jupyter-widgets/controls",
            "_model_module_version": "1.5.0",
            "_model_name": "HTMLModel",
            "_view_count": null,
            "_view_module": "@jupyter-widgets/controls",
            "_view_module_version": "1.5.0",
            "_view_name": "HTMLView",
            "description": "",
            "description_tooltip": null,
            "layout": "IPY_MODEL_8668e37210b1444a990cf8e23e082b4d",
            "placeholder": "​",
            "style": "IPY_MODEL_e7983b4dc76f4ab286ada76e179ccec7",
            "value": " 420/782 [00:04&lt;00:03, 107.34it/s]"
          }
        },
        "b116f22ce6dc4c45931b2a648c6881fe": {
          "model_module": "@jupyter-widgets/base",
          "model_name": "LayoutModel",
          "model_module_version": "1.2.0",
          "state": {
            "_model_module": "@jupyter-widgets/base",
            "_model_module_version": "1.2.0",
            "_model_name": "LayoutModel",
            "_view_count": null,
            "_view_module": "@jupyter-widgets/base",
            "_view_module_version": "1.2.0",
            "_view_name": "LayoutView",
            "align_content": null,
            "align_items": null,
            "align_self": null,
            "border": null,
            "bottom": null,
            "display": null,
            "flex": null,
            "flex_flow": null,
            "grid_area": null,
            "grid_auto_columns": null,
            "grid_auto_flow": null,
            "grid_auto_rows": null,
            "grid_column": null,
            "grid_gap": null,
            "grid_row": null,
            "grid_template_areas": null,
            "grid_template_columns": null,
            "grid_template_rows": null,
            "height": null,
            "justify_content": null,
            "justify_items": null,
            "left": null,
            "margin": null,
            "max_height": null,
            "max_width": null,
            "min_height": null,
            "min_width": null,
            "object_fit": null,
            "object_position": null,
            "order": null,
            "overflow": null,
            "overflow_x": null,
            "overflow_y": null,
            "padding": null,
            "right": null,
            "top": null,
            "visibility": null,
            "width": null
          }
        },
        "05837aa699884f6f8dc7f0da6397014a": {
          "model_module": "@jupyter-widgets/base",
          "model_name": "LayoutModel",
          "model_module_version": "1.2.0",
          "state": {
            "_model_module": "@jupyter-widgets/base",
            "_model_module_version": "1.2.0",
            "_model_name": "LayoutModel",
            "_view_count": null,
            "_view_module": "@jupyter-widgets/base",
            "_view_module_version": "1.2.0",
            "_view_name": "LayoutView",
            "align_content": null,
            "align_items": null,
            "align_self": null,
            "border": null,
            "bottom": null,
            "display": null,
            "flex": null,
            "flex_flow": null,
            "grid_area": null,
            "grid_auto_columns": null,
            "grid_auto_flow": null,
            "grid_auto_rows": null,
            "grid_column": null,
            "grid_gap": null,
            "grid_row": null,
            "grid_template_areas": null,
            "grid_template_columns": null,
            "grid_template_rows": null,
            "height": null,
            "justify_content": null,
            "justify_items": null,
            "left": null,
            "margin": null,
            "max_height": null,
            "max_width": null,
            "min_height": null,
            "min_width": null,
            "object_fit": null,
            "object_position": null,
            "order": null,
            "overflow": null,
            "overflow_x": null,
            "overflow_y": null,
            "padding": null,
            "right": null,
            "top": null,
            "visibility": null,
            "width": null
          }
        },
        "896c085bed6c402187c0c7da2d861b10": {
          "model_module": "@jupyter-widgets/controls",
          "model_name": "DescriptionStyleModel",
          "model_module_version": "1.5.0",
          "state": {
            "_model_module": "@jupyter-widgets/controls",
            "_model_module_version": "1.5.0",
            "_model_name": "DescriptionStyleModel",
            "_view_count": null,
            "_view_module": "@jupyter-widgets/base",
            "_view_module_version": "1.2.0",
            "_view_name": "StyleView",
            "description_width": ""
          }
        },
        "be30a4d3bafc4bc8b1ce137543ea0969": {
          "model_module": "@jupyter-widgets/base",
          "model_name": "LayoutModel",
          "model_module_version": "1.2.0",
          "state": {
            "_model_module": "@jupyter-widgets/base",
            "_model_module_version": "1.2.0",
            "_model_name": "LayoutModel",
            "_view_count": null,
            "_view_module": "@jupyter-widgets/base",
            "_view_module_version": "1.2.0",
            "_view_name": "LayoutView",
            "align_content": null,
            "align_items": null,
            "align_self": null,
            "border": null,
            "bottom": null,
            "display": null,
            "flex": null,
            "flex_flow": null,
            "grid_area": null,
            "grid_auto_columns": null,
            "grid_auto_flow": null,
            "grid_auto_rows": null,
            "grid_column": null,
            "grid_gap": null,
            "grid_row": null,
            "grid_template_areas": null,
            "grid_template_columns": null,
            "grid_template_rows": null,
            "height": null,
            "justify_content": null,
            "justify_items": null,
            "left": null,
            "margin": null,
            "max_height": null,
            "max_width": null,
            "min_height": null,
            "min_width": null,
            "object_fit": null,
            "object_position": null,
            "order": null,
            "overflow": null,
            "overflow_x": null,
            "overflow_y": null,
            "padding": null,
            "right": null,
            "top": null,
            "visibility": null,
            "width": null
          }
        },
        "d42fedd0313e4112ba4f53dd92111a6a": {
          "model_module": "@jupyter-widgets/controls",
          "model_name": "ProgressStyleModel",
          "model_module_version": "1.5.0",
          "state": {
            "_model_module": "@jupyter-widgets/controls",
            "_model_module_version": "1.5.0",
            "_model_name": "ProgressStyleModel",
            "_view_count": null,
            "_view_module": "@jupyter-widgets/base",
            "_view_module_version": "1.2.0",
            "_view_name": "StyleView",
            "bar_color": null,
            "description_width": ""
          }
        },
        "8668e37210b1444a990cf8e23e082b4d": {
          "model_module": "@jupyter-widgets/base",
          "model_name": "LayoutModel",
          "model_module_version": "1.2.0",
          "state": {
            "_model_module": "@jupyter-widgets/base",
            "_model_module_version": "1.2.0",
            "_model_name": "LayoutModel",
            "_view_count": null,
            "_view_module": "@jupyter-widgets/base",
            "_view_module_version": "1.2.0",
            "_view_name": "LayoutView",
            "align_content": null,
            "align_items": null,
            "align_self": null,
            "border": null,
            "bottom": null,
            "display": null,
            "flex": null,
            "flex_flow": null,
            "grid_area": null,
            "grid_auto_columns": null,
            "grid_auto_flow": null,
            "grid_auto_rows": null,
            "grid_column": null,
            "grid_gap": null,
            "grid_row": null,
            "grid_template_areas": null,
            "grid_template_columns": null,
            "grid_template_rows": null,
            "height": null,
            "justify_content": null,
            "justify_items": null,
            "left": null,
            "margin": null,
            "max_height": null,
            "max_width": null,
            "min_height": null,
            "min_width": null,
            "object_fit": null,
            "object_position": null,
            "order": null,
            "overflow": null,
            "overflow_x": null,
            "overflow_y": null,
            "padding": null,
            "right": null,
            "top": null,
            "visibility": null,
            "width": null
          }
        },
        "e7983b4dc76f4ab286ada76e179ccec7": {
          "model_module": "@jupyter-widgets/controls",
          "model_name": "DescriptionStyleModel",
          "model_module_version": "1.5.0",
          "state": {
            "_model_module": "@jupyter-widgets/controls",
            "_model_module_version": "1.5.0",
            "_model_name": "DescriptionStyleModel",
            "_view_count": null,
            "_view_module": "@jupyter-widgets/base",
            "_view_module_version": "1.2.0",
            "_view_name": "StyleView",
            "description_width": ""
          }
        }
      }
    }
  },
  "cells": [
    {
      "cell_type": "markdown",
      "source": [
        "#Introduction to PyTorch\n",
        "\n",
        "In order to understand the basics of PyTorch and some of the concepts we have covered in the previous workshop we will, work through a linear regression problem with heart disease. This is in order to predict the likelihood of heart disease based on how many hours of bike riding a week and smokes a week.\n",
        "\n",
        " ***Training Data:***\n",
        "\n",
        "\n",
        "<img src = 'https://imgur.com/eGaxYym.png' width = 400px/>\n",
        "\n",
        "\n",
        "\n",
        "```\n",
        "heart_disease = w1 * biking + w2 * smoking + b1\n",
        "```\n",
        "\n"
      ],
      "metadata": {
        "id": "Q8FArjjQiGep"
      }
    },
    {
      "cell_type": "markdown",
      "source": [
        "# What is our aim? \n",
        "\n",
        "Our aim is to find values for these weights w1 and w2 such that we can predict the persons likelihood of heart disease given the number of hours ridden and smoked.\n",
        "\n",
        "If we think about this problem having only one factor altering the likelihood of heart disease say, bike riding, and we had several tuples of data (hrs_ridden,likelihood). If we were approximating a line to these points we would want to adjust the gradient of \n",
        "\n",
        "*y= mx + b* \n",
        "\n",
        "such that it nicely reflects the trend of the plotted data. \n",
        "\n",
        "\n",
        "<img src = 'https://imgur.com/R0T8B4M.png' width = 600px/>\n",
        "\n",
        "We are essentially doing the same thing when we're training our model, we will adjust the weights w1, w2 and b1 fractionally each several times untill our model makes better predictions"
      ],
      "metadata": {
        "id": "BTMxrLXadtmH"
      }
    },
    {
      "cell_type": "markdown",
      "source": [
        "# Data for training"
      ],
      "metadata": {
        "id": "DRg9lPG_p8eJ"
      }
    },
    {
      "cell_type": "code",
      "source": [
        "import numpy as np\n",
        "import torch"
      ],
      "metadata": {
        "id": "3GLZ9PATnG6M"
      },
      "execution_count": 7,
      "outputs": []
    },
    {
      "cell_type": "markdown",
      "source": [
        "We will use numpy to create numpy arrays which we will convert later into tensors. As often you will be dealing with data in formats such as CSV, where you will be using numpy or pandas to process it.\n",
        "\n",
        "(A tensor is a number, vector, matrix, basically an n-dimensional array)\n",
        "\n",
        "** They can hold one single type ie. All floating point numbers or all integers\n",
        "\n",
        "```\n",
        "# To create a tensor in PyTorch\n",
        "  tensor = torch.tensor([1.,2,3,4,5])\n",
        "\n",
        "  # As element 0, 1. is a floating point number the rest of the number will become floating point numbers!!\n",
        "```\n",
        "\n",
        "\n",
        "\n",
        "\n",
        "\n"
      ],
      "metadata": {
        "id": "CaVUVfmZqHnj"
      }
    },
    {
      "cell_type": "markdown",
      "source": [
        "##Importing Data"
      ],
      "metadata": {
        "id": "1Sw31abF4399"
      }
    },
    {
      "cell_type": "code",
      "source": [
        "from numpy import genfromtxt\n",
        "from google.colab import drive\n",
        "import os \n",
        "try:\n",
        "  drive.mount('/content/drive')\n",
        "  os.chdir('/content/drive/Shareddrives/DeepNeuron Team/Training/Deep Learning/2023')\n",
        "  heart_data = genfromtxt('heart.data.csv', delimiter=',',skip_header = 1)\n",
        "\n",
        "except:\n",
        "  heart_data = genfromtxt('/Data/heart.data.csv', delimiter=',',skip_header = 1)\n",
        "\n"
      ],
      "metadata": {
        "id": "iZvhrjsD1xSw",
        "colab": {
          "base_uri": "https://localhost:8080/"
        },
        "outputId": "aa682c03-0945-43c1-bc64-67539e0eb517"
      },
      "execution_count": 9,
      "outputs": [
        {
          "output_type": "stream",
          "name": "stdout",
          "text": [
            "Drive already mounted at /content/drive; to attempt to forcibly remount, call drive.mount(\"/content/drive\", force_remount=True).\n"
          ]
        }
      ]
    },
    {
      "cell_type": "markdown",
      "source": [
        "## What do we need to do?\n",
        "\n",
        "We can represent the training data using two matrices: inputs and targets"
      ],
      "metadata": {
        "id": "aYqhCRCn4sPA"
      }
    },
    {
      "cell_type": "code",
      "source": [
        "# Creating Inputs Matrix (biking,smoking)\n",
        "inputs = heart_data[:,[1,2]]\n",
        "print(inputs.dtype)\n",
        "inputs = inputs.astype(np.float32)"
      ],
      "metadata": {
        "id": "T0qS8fei5Nab",
        "colab": {
          "base_uri": "https://localhost:8080/"
        },
        "outputId": "c5e5000f-0ba4-4e9e-e3be-55a04dc7822d"
      },
      "execution_count": 10,
      "outputs": [
        {
          "output_type": "stream",
          "name": "stdout",
          "text": [
            "float64\n"
          ]
        }
      ]
    },
    {
      "cell_type": "markdown",
      "source": [
        "*The default element datatype for torch.tensor() is a float32 and the deault for np.array() is a float64"
      ],
      "metadata": {
        "id": "0T-1lFap_dmx"
      }
    },
    {
      "cell_type": "code",
      "source": [
        "# Creating Targets Matrix (heart disease)\n",
        "targets = heart_data[:,[3]]\n",
        "targets = targets.astype(np.float32)"
      ],
      "metadata": {
        "id": "8zE-hve05qN0"
      },
      "execution_count": 11,
      "outputs": []
    },
    {
      "cell_type": "markdown",
      "source": [
        "We will convert these NumPy arrays to tensors such that we can process them with PyTorch"
      ],
      "metadata": {
        "id": "-uwx5YX06OY3"
      }
    },
    {
      "cell_type": "code",
      "source": [
        "# Convert inputs and targets to tensors\n",
        "inputs = torch.from_numpy(inputs)\n",
        "targets = torch.from_numpy(targets)\n",
        "print(inputs[0:10])\n",
        "print(targets[0:10])"
      ],
      "metadata": {
        "id": "1f-KM9vb6cB6",
        "colab": {
          "base_uri": "https://localhost:8080/"
        },
        "outputId": "d82f60a1-3b65-4191-e8b3-16686bccd647"
      },
      "execution_count": 12,
      "outputs": [
        {
          "output_type": "stream",
          "name": "stdout",
          "text": [
            "tensor([[30.8012, 10.8966],\n",
            "        [65.1292,  2.2196],\n",
            "        [ 1.9597, 17.5883],\n",
            "        [44.8002,  2.8026],\n",
            "        [69.4285, 15.9745],\n",
            "        [54.4036, 29.3332],\n",
            "        [49.0562,  9.0608],\n",
            "        [ 4.7846, 12.8350],\n",
            "        [65.7308, 11.9913],\n",
            "        [35.2575, 23.2777]])\n",
            "tensor([[11.7694],\n",
            "        [ 2.8541],\n",
            "        [17.1778],\n",
            "        [ 6.8166],\n",
            "        [ 4.0622],\n",
            "        [ 9.5500],\n",
            "        [ 7.6245],\n",
            "        [15.8547],\n",
            "        [ 3.0675],\n",
            "        [12.0985]])\n"
          ]
        }
      ]
    },
    {
      "cell_type": "markdown",
      "source": [
        "# Creating Our Model\n",
        "\n",
        "PyTorch has several in-built functions to help us built in functions to help us create and train models, with fewer lines of code. However, for the purposes of understanding we will not be using them till later."
      ],
      "metadata": {
        "id": "rDW-ZDVBD22K"
      }
    },
    {
      "cell_type": "markdown",
      "source": [
        "We will just initialise the weights and biases as random numbers, and will learn the weights and biases. This is because gradient descent is a heuristic method, meaning it does not really matter where we start."
      ],
      "metadata": {
        "id": "uvzXjza25v4p"
      }
    },
    {
      "cell_type": "code",
      "source": [
        "# Weights and biases\n",
        "w = torch.randn(1, 2, requires_grad=True)\n",
        "b = torch.randn(1, requires_grad=True)\n",
        "print(w)\n",
        "print(b)"
      ],
      "metadata": {
        "id": "XsWSiR_25vOA",
        "colab": {
          "base_uri": "https://localhost:8080/"
        },
        "outputId": "9a2118b5-d779-4091-8996-956045c07d5b"
      },
      "execution_count": 13,
      "outputs": [
        {
          "output_type": "stream",
          "name": "stdout",
          "text": [
            "tensor([[ 0.8026, -1.5907]], requires_grad=True)\n",
            "tensor([1.1427], requires_grad=True)\n"
          ]
        }
      ]
    },
    {
      "cell_type": "code",
      "source": [
        "def model(x):\n",
        "    return (x @ w.t() + b)"
      ],
      "metadata": {
        "id": "I8xaB5rgD2rM"
      },
      "execution_count": 14,
      "outputs": []
    },
    {
      "cell_type": "code",
      "source": [
        " # Generate predictions\n",
        "preds = model(inputs)\n",
        "print(preds[0:10])"
      ],
      "metadata": {
        "id": "RSHXpSgk6Zdt",
        "colab": {
          "base_uri": "https://localhost:8080/"
        },
        "outputId": "5f194e9c-d60d-411d-91d8-26896d7eff91"
      },
      "execution_count": 15,
      "outputs": [
        {
          "output_type": "stream",
          "name": "stdout",
          "text": [
            "tensor([[  8.5295],\n",
            "        [ 49.8828],\n",
            "        [-25.2626],\n",
            "        [ 32.6400],\n",
            "        [ 31.4530],\n",
            "        [ -1.8553],\n",
            "        [ 26.1005],\n",
            "        [-15.4342],\n",
            "        [ 34.8216],\n",
            "        [ -7.5889]], grad_fn=<SliceBackward0>)\n"
          ]
        }
      ]
    },
    {
      "cell_type": "code",
      "source": [
        "print(targets[0:10])"
      ],
      "metadata": {
        "id": "WMQ6gpi8910o",
        "colab": {
          "base_uri": "https://localhost:8080/"
        },
        "outputId": "c994f8ab-5ef2-4e4d-949a-1ac6feb72103"
      },
      "execution_count": 16,
      "outputs": [
        {
          "output_type": "stream",
          "name": "stdout",
          "text": [
            "tensor([[11.7694],\n",
            "        [ 2.8541],\n",
            "        [17.1778],\n",
            "        [ 6.8166],\n",
            "        [ 4.0622],\n",
            "        [ 9.5500],\n",
            "        [ 7.6245],\n",
            "        [15.8547],\n",
            "        [ 3.0675],\n",
            "        [12.0985]])\n"
          ]
        }
      ]
    },
    {
      "cell_type": "markdown",
      "source": [
        "There is obviously a large descrepency between the current predicitons and the actual targets so we need a way of evaluating how good the model is actually performing, which is where the loss function comes into play."
      ],
      "metadata": {
        "id": "K0yKGNO63wZN"
      }
    },
    {
      "cell_type": "markdown",
      "source": [
        "#Loss Function\n",
        "\n",
        "The loss function measures how well our model is performing. This is calculated via computing the distance between our output (preds) and our expected output (targets). We will be using the Mean Squared Error loss function as this is a regression problem. MSE tell us how close a regression line is close to a set of data points.\n",
        "\n",
        "[Other Loss Functions](https://medium.com/udacity-pytorch-challengers/a-brief-overview-of-loss-functions-in-pytorch-c0ddb78068f7)\n"
      ],
      "metadata": {
        "id": "V8wBUUeL_-qK"
      }
    },
    {
      "cell_type": "code",
      "source": [
        "def MSE(predictions,targets):\n",
        "\n",
        "# Calculate the distance between output and expected output (preds and targets).\n",
        "  difference = predictions - targets\n",
        "# Square to get rid off negative values.\n",
        "  diff_squared = difference ** 2\n",
        "# Calculate the average of the elements \n",
        "  average = torch.sum(diff_squared) / difference.numel()\n",
        "# This average is the (MSE).\n",
        "\n",
        "  return average"
      ],
      "metadata": {
        "id": "D3SwMxKVJohV"
      },
      "execution_count": 17,
      "outputs": []
    },
    {
      "cell_type": "code",
      "source": [
        "loss = MSE(preds,targets)\n",
        "print(loss)"
      ],
      "metadata": {
        "id": "stPnCFL_R5v1",
        "colab": {
          "base_uri": "https://localhost:8080/"
        },
        "outputId": "296076a5-008c-487b-db3c-716d4497c315"
      },
      "execution_count": 18,
      "outputs": [
        {
          "output_type": "stream",
          "name": "stdout",
          "text": [
            "tensor(679.1526, grad_fn=<DivBackward0>)\n"
          ]
        }
      ]
    },
    {
      "cell_type": "markdown",
      "source": [
        "###What does this actually mean?\n",
        "\n",
        "<img src = 'https://imgur.com/zk4Vypl.png' width='500'/>\n",
        "\n",
        "Essentially what this loss value tells us is that from the red line - which represents the models predicitons -  the actual target - one of the blue points - differs on average by a distance of sqrt(loss). \n",
        "\n",
        "This sets up the fundamental objective of machine learning, which is to reduce the loss so that our model is better at making predictions."
      ],
      "metadata": {
        "id": "4hofo74wSICk"
      }
    },
    {
      "cell_type": "code",
      "source": [],
      "metadata": {
        "id": "9DS5WFV3k8fl"
      },
      "execution_count": 18,
      "outputs": []
    },
    {
      "cell_type": "markdown",
      "source": [
        "#Gradients\n",
        "\n",
        "PyTorch makes computing gradients really easy as it has a feature called *autograd*, meaning that for tensors with the property of `requires_grad` set to true, its derivative will be automatically computed. Tensors store these gradients in the `.grad` property."
      ],
      "metadata": {
        "id": "fkdTxBExWWel"
      }
    },
    {
      "cell_type": "code",
      "source": [
        "# Compute gradients\n",
        "loss.backward()"
      ],
      "metadata": {
        "id": "83vng5jtWWEK"
      },
      "execution_count": 19,
      "outputs": []
    },
    {
      "cell_type": "markdown",
      "source": [
        "# Adjusting Weights and Biases\n",
        "\n",
        "The main objective is to find values for our wights and biases to reduce the loss function. \n",
        "\n",
        "<img src = 'https://imgur.com/TUKeVho.png' width =400/>\n",
        "\n",
        "If a gradient element is **positive**:\n",
        "\n",
        "* **increasing** the weight element's value slightly will **increase** the loss\n",
        "* **decreasing** the weight element's value slightly will **decrease** the loss\n",
        "\n",
        "If a gradient element is **negative**:\n",
        "\n",
        "* **increasing** the weight element's value slightly will **decrease** the loss\n",
        "* **decreasing** the weight element's value slightly will **increase** the loss\n",
        "\n",
        "We will essentially be altering the values of the initial weights several times until we reach the minima. "
      ],
      "metadata": {
        "id": "IwPrfNv1Xmel"
      }
    },
    {
      "cell_type": "code",
      "source": [
        "# Train for 100 epochs\n",
        "lr = 1e-5\n",
        "\n",
        "for i in range(300):\n",
        "    preds = model(inputs)\n",
        "    loss = MSE(preds, targets)\n",
        "    loss.backward()\n",
        "    with torch.no_grad():\n",
        "      w -= w.grad * lr\n",
        "      b -= b.grad * lr\n",
        "      w.grad.zero_() \n",
        "      b.grad.zero_()"
      ],
      "metadata": {
        "id": "ypPb9EeSgNZI"
      },
      "execution_count": 20,
      "outputs": []
    },
    {
      "cell_type": "code",
      "source": [
        "# Calculate loss\n",
        "preds = model(inputs)\n",
        "loss = MSE(preds, targets)\n",
        "print(loss)"
      ],
      "metadata": {
        "id": "gx8Y5hvqgab-",
        "colab": {
          "base_uri": "https://localhost:8080/"
        },
        "outputId": "134fa219-bbc5-4be9-9cac-a8dfe17a09b7"
      },
      "execution_count": 21,
      "outputs": [
        {
          "output_type": "stream",
          "name": "stdout",
          "text": [
            "tensor(183.6610, grad_fn=<DivBackward0>)\n"
          ]
        }
      ]
    },
    {
      "cell_type": "code",
      "source": [
        "print(preds[0:10])"
      ],
      "metadata": {
        "id": "c0XO_BTyPJNX",
        "colab": {
          "base_uri": "https://localhost:8080/"
        },
        "outputId": "1a78aae4-e75b-44ad-c80f-4b9d17cfe934"
      },
      "execution_count": 22,
      "outputs": [
        {
          "output_type": "stream",
          "name": "stdout",
          "text": [
            "tensor([[ 5.2010],\n",
            "        [20.7581],\n",
            "        [-7.5514],\n",
            "        [13.9685],\n",
            "        [14.8115],\n",
            "        [ 2.9165],\n",
            "        [11.9959],\n",
            "        [-4.1225],\n",
            "        [15.7518],\n",
            "        [ 0.0352]], grad_fn=<SliceBackward0>)\n"
          ]
        }
      ]
    },
    {
      "cell_type": "code",
      "source": [
        "print(targets[0:10])"
      ],
      "metadata": {
        "id": "dAVv5oJlPTKB",
        "colab": {
          "base_uri": "https://localhost:8080/"
        },
        "outputId": "e6230e6d-3f9c-460d-8057-e168bc6d4aeb"
      },
      "execution_count": 23,
      "outputs": [
        {
          "output_type": "stream",
          "name": "stdout",
          "text": [
            "tensor([[11.7694],\n",
            "        [ 2.8541],\n",
            "        [17.1778],\n",
            "        [ 6.8166],\n",
            "        [ 4.0622],\n",
            "        [ 9.5500],\n",
            "        [ 7.6245],\n",
            "        [15.8547],\n",
            "        [ 3.0675],\n",
            "        [12.0985]])\n"
          ]
        }
      ]
    },
    {
      "cell_type": "markdown",
      "source": [
        "#Logistic Regression with PyTorch \n",
        "\n",
        "As we have solidified some of the concepts, we will move onto a more PyTorch intensive example."
      ],
      "metadata": {
        "id": "z2ICnZT2y600"
      }
    },
    {
      "cell_type": "code",
      "source": [
        "import torch\n",
        "import torchvision\n",
        "import matplotlib.pyplot as plt\n",
        "from torchvision.datasets import MNIST\n",
        "%matplotlib inline"
      ],
      "metadata": {
        "id": "UHt1kH5HdIHs"
      },
      "execution_count": 24,
      "outputs": []
    },
    {
      "cell_type": "code",
      "source": [
        "dataset = MNIST(root = 'data/',download=True)"
      ],
      "metadata": {
        "id": "4CPblmaadRCv",
        "colab": {
          "base_uri": "https://localhost:8080/"
        },
        "outputId": "4a62a539-98ec-466f-ebd5-da76248472dc"
      },
      "execution_count": 25,
      "outputs": [
        {
          "output_type": "stream",
          "name": "stdout",
          "text": [
            "Downloading http://yann.lecun.com/exdb/mnist/train-images-idx3-ubyte.gz\n",
            "Downloading http://yann.lecun.com/exdb/mnist/train-images-idx3-ubyte.gz to data/MNIST/raw/train-images-idx3-ubyte.gz\n"
          ]
        },
        {
          "output_type": "stream",
          "name": "stderr",
          "text": [
            "100%|██████████| 9912422/9912422 [00:00<00:00, 109925258.04it/s]\n"
          ]
        },
        {
          "output_type": "stream",
          "name": "stdout",
          "text": [
            "Extracting data/MNIST/raw/train-images-idx3-ubyte.gz to data/MNIST/raw\n",
            "\n",
            "Downloading http://yann.lecun.com/exdb/mnist/train-labels-idx1-ubyte.gz\n",
            "Downloading http://yann.lecun.com/exdb/mnist/train-labels-idx1-ubyte.gz to data/MNIST/raw/train-labels-idx1-ubyte.gz\n"
          ]
        },
        {
          "output_type": "stream",
          "name": "stderr",
          "text": [
            "100%|██████████| 28881/28881 [00:00<00:00, 13351228.24it/s]\n"
          ]
        },
        {
          "output_type": "stream",
          "name": "stdout",
          "text": [
            "Extracting data/MNIST/raw/train-labels-idx1-ubyte.gz to data/MNIST/raw\n",
            "\n",
            "Downloading http://yann.lecun.com/exdb/mnist/t10k-images-idx3-ubyte.gz\n",
            "Downloading http://yann.lecun.com/exdb/mnist/t10k-images-idx3-ubyte.gz to data/MNIST/raw/t10k-images-idx3-ubyte.gz\n"
          ]
        },
        {
          "output_type": "stream",
          "name": "stderr",
          "text": [
            "100%|██████████| 1648877/1648877 [00:00<00:00, 112207210.13it/s]"
          ]
        },
        {
          "output_type": "stream",
          "name": "stdout",
          "text": [
            "Extracting data/MNIST/raw/t10k-images-idx3-ubyte.gz to data/MNIST/raw\n",
            "\n",
            "Downloading http://yann.lecun.com/exdb/mnist/t10k-labels-idx1-ubyte.gz\n"
          ]
        },
        {
          "output_type": "stream",
          "name": "stderr",
          "text": [
            "\n"
          ]
        },
        {
          "output_type": "stream",
          "name": "stdout",
          "text": [
            "Downloading http://yann.lecun.com/exdb/mnist/t10k-labels-idx1-ubyte.gz to data/MNIST/raw/t10k-labels-idx1-ubyte.gz\n"
          ]
        },
        {
          "output_type": "stream",
          "name": "stderr",
          "text": [
            "100%|██████████| 4542/4542 [00:00<00:00, 10090322.44it/s]\n"
          ]
        },
        {
          "output_type": "stream",
          "name": "stdout",
          "text": [
            "Extracting data/MNIST/raw/t10k-labels-idx1-ubyte.gz to data/MNIST/raw\n",
            "\n"
          ]
        }
      ]
    },
    {
      "cell_type": "code",
      "source": [
        "dataset"
      ],
      "metadata": {
        "id": "e8XmAnbvtKLZ",
        "colab": {
          "base_uri": "https://localhost:8080/"
        },
        "outputId": "1c7c1903-0787-4def-b0a3-80816bbb562b"
      },
      "execution_count": 26,
      "outputs": [
        {
          "output_type": "execute_result",
          "data": {
            "text/plain": [
              "Dataset MNIST\n",
              "    Number of datapoints: 60000\n",
              "    Root location: data/\n",
              "    Split: Train"
            ]
          },
          "metadata": {},
          "execution_count": 26
        }
      ]
    },
    {
      "cell_type": "code",
      "source": [
        "image,label=dataset[10]\n",
        "plt.imshow(image,cmap='gray')\n",
        "print(f\"Number: {label}\")"
      ],
      "metadata": {
        "id": "hjkCaSvxmd2V",
        "colab": {
          "base_uri": "https://localhost:8080/",
          "height": 0
        },
        "outputId": "21d8a401-b95c-4afc-c127-cb53e96af305"
      },
      "execution_count": 27,
      "outputs": [
        {
          "output_type": "stream",
          "name": "stdout",
          "text": [
            "Number: 3\n"
          ]
        },
        {
          "output_type": "display_data",
          "data": {
            "text/plain": [
              "<Figure size 640x480 with 1 Axes>"
            ],
            "image/png": "[encoded data removed]"
          },
          "metadata": {}
        }
      ]
    },
    {
      "cell_type": "markdown",
      "source": [
        "# Splitting Our Data\n",
        "\n",
        "<img src = 'https://imgur.com/T8ENrcX.png' width = 500/>\n",
        "\n",
        "We split our data into three different sets:\n",
        "\n",
        "1. **Training set** - used to train the model, i.e., compute the loss and adjust the model's weights using gradient descent.\n",
        "2. **Validation set** - used to evaluate the model during training, adjust hyperparameters (learning rate, etc.), and pick the best version of the model.\n",
        "3. **Test set** - used to compare different models or approaches and report the model's final accuracy.\n",
        "\n",
        "The MNIST dataset comes with 60,000 images in the training set and 10,000 testing images for the evaluation of our model."
      ],
      "metadata": {
        "id": "1J2engqjfpgT"
      }
    },
    {
      "cell_type": "code",
      "source": [
        "import torchvision.transforms as transforms"
      ],
      "metadata": {
        "id": "Y9vvI1r9rUwg"
      },
      "execution_count": 28,
      "outputs": []
    },
    {
      "cell_type": "code",
      "source": [
        "testing_ds = MNIST(root = 'data/',\n",
        "                   train = False,\n",
        "                   transform =transforms.ToTensor())\n",
        "dataset = MNIST(root='data/', \n",
        "                train=True,\n",
        "                transform=transforms.ToTensor())"
      ],
      "metadata": {
        "id": "oOR-VAu8wFYg"
      },
      "execution_count": 29,
      "outputs": []
    },
    {
      "cell_type": "code",
      "source": [
        "len(testing_ds), len(dataset)"
      ],
      "metadata": {
        "id": "FXcDMJ66reBN",
        "colab": {
          "base_uri": "https://localhost:8080/"
        },
        "outputId": "7f1dc256-cf30-468b-fbcc-23294f381898"
      },
      "execution_count": 30,
      "outputs": [
        {
          "output_type": "execute_result",
          "data": {
            "text/plain": [
              "(10000, 60000)"
            ]
          },
          "metadata": {},
          "execution_count": 30
        }
      ]
    },
    {
      "cell_type": "markdown",
      "source": [
        "** As the 60,000 dataset segemenent does not include a segment for validation and training data, we will need to manually split it up.\n",
        "\n",
        "We do this using the `random_spilt` function in PyTorch in the data utils module. This is just so that we can have a good representation of the whole data set in our split. As when you have a dataset the way its sorted may mean when we select for example 50,000 images for our training set we may not have any number 9's and our 10,000 images for our validation set may be just 9's. "
      ],
      "metadata": {
        "id": "YKHMFo3JrdxW"
      }
    },
    {
      "cell_type": "code",
      "source": [
        "from torch.utils.data import random_split\n",
        "training_ds, validation_ds = random_split(dataset,[50000,10000])"
      ],
      "metadata": {
        "id": "R7OR5swRDG47"
      },
      "execution_count": 31,
      "outputs": []
    },
    {
      "cell_type": "code",
      "source": [
        "len(training_ds), len(validation_ds)"
      ],
      "metadata": {
        "id": "WeOCwICaLx_H",
        "colab": {
          "base_uri": "https://localhost:8080/"
        },
        "outputId": "c1526ed8-0a76-4cb5-8850-2867d4705a10"
      },
      "execution_count": 32,
      "outputs": [
        {
          "output_type": "execute_result",
          "data": {
            "text/plain": [
              "(50000, 10000)"
            ]
          },
          "metadata": {},
          "execution_count": 32
        }
      ]
    },
    {
      "cell_type": "markdown",
      "source": [
        "# Data Loader"
      ],
      "metadata": {
        "id": "VsCrwSH7iUtM"
      }
    },
    {
      "cell_type": "code",
      "source": [
        "from torch.utils.data import DataLoader\n",
        "\n",
        "training_loader = DataLoader(training_ds, batch_size = 64, shuffle = True)\n",
        "validation_loader = DataLoader(validation_ds, batch_size = 64, shuffle = False)"
      ],
      "metadata": {
        "id": "YR4Ez0vrCfOI"
      },
      "execution_count": 33,
      "outputs": []
    },
    {
      "cell_type": "markdown",
      "source": [
        "For the training loadee `shuffle = True`, which just shuffles the data, to make sure the batches in each epoch are different. You want to shuffle your data after each epoch because you will always have the risk to create batches that are not representative of the overall dataset, and therefore, your estimate of the gradient will be off.  "
      ],
      "metadata": {
        "id": "NFzcJ-PP_Ig7"
      }
    },
    {
      "cell_type": "markdown",
      "source": [
        "# Creating our Model "
      ],
      "metadata": {
        "id": "YUhlsS-7MVRC"
      }
    },
    {
      "cell_type": "markdown",
      "source": [
        "Logistic Regression model is relatively similar to a linear regression model, where the predicted output is obtained via the following:\n",
        "\n",
        "```\n",
        "p = x @ w.t() + b\n",
        "```\n",
        "However, this time we will use the `nn.Linear` to create the model. Which applies a linear transformation to the incoming data: `y = xA^T + b`\n"
      ],
      "metadata": {
        "id": "1_9qQzx4M8Rx"
      }
    },
    {
      "cell_type": "code",
      "source": [
        "image,label = training_ds[0]\n",
        "print(f\"Dimensions: {image.shape}\")"
      ],
      "metadata": {
        "id": "vUZvkPFpMVAX",
        "colab": {
          "base_uri": "https://localhost:8080/"
        },
        "outputId": "c551c891-14fa-4cd8-9742-3c18475fa33d"
      },
      "execution_count": 34,
      "outputs": [
        {
          "output_type": "stream",
          "name": "stdout",
          "text": [
            "Dimensions: torch.Size([1, 28, 28])\n"
          ]
        }
      ]
    },
    {
      "cell_type": "markdown",
      "source": [
        "We know we have 10 images classes, as any given image is a number between 0 - 9, and our vector provided to `nn.Linear` will be of size (784) so we will reshape our image into 2D using the `.reshape` method."
      ],
      "metadata": {
        "id": "HkaneikrN-l7"
      }
    },
    {
      "cell_type": "markdown",
      "source": [
        "All PyTorch models are created by extending the `nn.Module` class"
      ],
      "metadata": {
        "id": "Kq_nffzEZjGi"
      }
    },
    {
      "cell_type": "code",
      "source": [
        "import torch.nn as nn"
      ],
      "metadata": {
        "id": "0RWo7OK7ZZcD"
      },
      "execution_count": 35,
      "outputs": []
    },
    {
      "cell_type": "code",
      "source": [
        "class LrModel(nn.Module):\n",
        "    def __init__(self,input_size,output_size): # Sub Class \n",
        "        super().__init__() \n",
        "        self.linear = nn.Linear(input_size, output_size)\n",
        "        \n",
        "    def forward(self, x):\n",
        "        x = x.reshape(-1, 784)\n",
        "        x = self.linear(x)\n",
        "        return x"
      ],
      "metadata": {
        "id": "f_EXtIG_Meog"
      },
      "execution_count": 36,
      "outputs": []
    },
    {
      "cell_type": "code",
      "source": [
        "model = LrModel(784,10)"
      ],
      "metadata": {
        "id": "EWt0oLE1eLCr"
      },
      "execution_count": 37,
      "outputs": []
    },
    {
      "cell_type": "markdown",
      "source": [
        "# Training and Validation Loops\n",
        "\n",
        "- This is over one epoch"
      ],
      "metadata": {
        "id": "E3BkdOLLcsbF"
      }
    },
    {
      "cell_type": "code",
      "source": [
        "from tqdm.notebook import tqdm"
      ],
      "metadata": {
        "id": "XsMDbVahfQj0"
      },
      "execution_count": 38,
      "outputs": []
    },
    {
      "cell_type": "code",
      "source": [
        "def train(model, train_loader, loss_fn, optimizer):\n",
        "    model.train() # puts the model in training mode\n",
        "    running_loss = 0\n",
        "    with tqdm(total=len(train_loader)) as pbar:\n",
        "        for i, data in enumerate(train_loader, 0): # batch in training loader\n",
        "            inputs, labels = data # separate inputs and labels (outputs)\n",
        "            \n",
        "            # forward + backward + optimize                                          \n",
        "            outputs = model(inputs) # forward pass and get predictions\n",
        "            loss = loss_fn(outputs, labels) # calculate loss (how well the model is fitting training data)\n",
        "            loss.backward() # calculates gradient w.r.t to loss for all parameters in model that have requires_grad=True\n",
        "            optimizer.step() # iterate over all parameters in the model with requires_grad=True and update their weights.\n",
        "            optimizer.zero_grad() # clear the gradients in model parameters\n",
        "\n",
        "            running_loss += loss.item() # sum total loss in current epoch for print later\n",
        "\n",
        "            pbar.update(1) #increment our progress bar\n",
        "\n",
        "    return running_loss/len(train_loader) # returns the total training loss for the epoch"
      ],
      "metadata": {
        "id": "8ssuYlAdes-b"
      },
      "execution_count": 39,
      "outputs": []
    },
    {
      "cell_type": "code",
      "source": [
        "# Function for the validation pass\n",
        "def validation(model, val_loader, loss_fn):\n",
        "    model.eval() # puts the model in validation mode\n",
        "    running_loss = 0\n",
        "    total = 0\n",
        "    correct = 0\n",
        "    \n",
        "    with torch.no_grad(): # save memory by not saving gradients which we don't need \n",
        "        with tqdm(total=len(val_loader)) as pbar:\n",
        "            for images, labels in iter(val_loader): #batch in val loader\n",
        "               \n",
        "                outputs = model(images) # passes image to the model, and gets a ouput which is the class probability prediction\n",
        "\n",
        "                val_loss = loss_fn(outputs, labels) # calculates val_loss from model predictions and true labels (ie. How well model is fitting new data)\n",
        "                running_loss += val_loss.item()\n",
        "\n",
        "\n",
        "                # Essentially measuring accuracy by checking the percantage of labels that have been correctly predicted\n",
        "                _, predicted = torch.max(outputs, 1) # turns class probability predictions to class labels\n",
        "                total += labels.size(0) # sums the number of predictions\n",
        "                correct += (predicted == labels).sum().item() # sums the number of correct predictions\n",
        "        \n",
        "                pbar.update(1)\n",
        "\n",
        "        return running_loss/len(val_loader), correct/total # return loss value, accuracy"
      ],
      "metadata": {
        "id": "l8Di5AWZfScY"
      },
      "execution_count": 40,
      "outputs": []
    },
    {
      "cell_type": "markdown",
      "source": [
        "You might be asking how does our model output probabilities for us to take the max and say, we are 60% confident the image inputted is a 8. With our Cross Entropy Loss function PyTorch will convert these weight sums to probablities using the softmax fucntion.\n",
        "\n",
        "How does it work?\n",
        "\n",
        "<img src = 'https://img.youtube.com/vi/lvNdl7yg4Pg/0.jpg' width=400/>\n",
        "\n"
      ],
      "metadata": {
        "id": "v79GLEdQk2Rc"
      }
    },
    {
      "cell_type": "code",
      "source": [
        "from torch.nn.functional import softmax"
      ],
      "metadata": {
        "id": "VmS6cJI7rwN4"
      },
      "execution_count": 41,
      "outputs": []
    },
    {
      "cell_type": "code",
      "source": [
        "for images,labels in training_loader:\n",
        "  outputs = model(images)\n",
        "  break\n",
        "\n",
        "print(outputs[0:5])"
      ],
      "metadata": {
        "id": "EwOhjWPeub4S",
        "colab": {
          "base_uri": "https://localhost:8080/"
        },
        "outputId": "1edcf813-db34-4f5c-d252-4e7174376ac7"
      },
      "execution_count": 42,
      "outputs": [
        {
          "output_type": "stream",
          "name": "stdout",
          "text": [
            "tensor([[-0.0096,  0.0993,  0.4343, -0.1909,  0.0017,  0.0887,  0.2848,  0.1860,\n",
            "          0.0179, -0.0623],\n",
            "        [-0.0809, -0.1281,  0.0726,  0.0736,  0.2048,  0.0336,  0.0577,  0.2804,\n",
            "          0.0253,  0.0367],\n",
            "        [-0.2171, -0.0942, -0.0144, -0.1221,  0.3720,  0.2191,  0.3760,  0.2270,\n",
            "          0.2073, -0.1302],\n",
            "        [ 0.0660, -0.2365,  0.0357, -0.3930,  0.2850,  0.3594,  0.0892,  0.4412,\n",
            "          0.1613, -0.0077],\n",
            "        [-0.0948, -0.1093, -0.0738, -0.3057,  0.3966,  0.4229,  0.4185,  0.4388,\n",
            "          0.1337, -0.0939]], grad_fn=<SliceBackward0>)\n"
          ]
        }
      ]
    },
    {
      "cell_type": "code",
      "source": [
        "probability = softmax(outputs,1)\n",
        "print(probability[0:5])"
      ],
      "metadata": {
        "id": "GCB7Zmdvu26G",
        "colab": {
          "base_uri": "https://localhost:8080/"
        },
        "outputId": "7047a572-1156-4369-85f4-73be7a40d140"
      },
      "execution_count": 43,
      "outputs": [
        {
          "output_type": "stream",
          "name": "stdout",
          "text": [
            "tensor([[0.0896, 0.0999, 0.1397, 0.0748, 0.0906, 0.0989, 0.1203, 0.1090, 0.0921,\n",
            "         0.0850],\n",
            "        [0.0865, 0.0825, 0.1009, 0.1010, 0.1151, 0.0970, 0.0994, 0.1242, 0.0962,\n",
            "         0.0973],\n",
            "        [0.0725, 0.0820, 0.0888, 0.0797, 0.1307, 0.1121, 0.1312, 0.1130, 0.1108,\n",
            "         0.0791],\n",
            "        [0.0958, 0.0708, 0.0930, 0.0606, 0.1193, 0.1285, 0.0981, 0.1395, 0.1054,\n",
            "         0.0890],\n",
            "        [0.0784, 0.0772, 0.0800, 0.0635, 0.1281, 0.1315, 0.1309, 0.1336, 0.0985,\n",
            "         0.0784]], grad_fn=<SliceBackward0>)\n"
          ]
        }
      ]
    },
    {
      "cell_type": "code",
      "source": [
        "print(torch.max(probability[0:5],1))"
      ],
      "metadata": {
        "id": "dJTrZAEazVnH",
        "colab": {
          "base_uri": "https://localhost:8080/"
        },
        "outputId": "5969a517-a785-4e07-c8ae-08719afedeae"
      },
      "execution_count": 44,
      "outputs": [
        {
          "output_type": "stream",
          "name": "stdout",
          "text": [
            "torch.return_types.max(\n",
            "values=tensor([0.1397, 0.1242, 0.1312, 0.1395, 0.1336], grad_fn=<MaxBackward0>),\n",
            "indices=tensor([2, 7, 6, 7, 7]))\n"
          ]
        }
      ]
    },
    {
      "cell_type": "code",
      "source": [
        "labels[0:5]"
      ],
      "metadata": {
        "id": "Dq8hnAyrzcD8",
        "colab": {
          "base_uri": "https://localhost:8080/"
        },
        "outputId": "8d782258-f0b8-4ce2-9b37-18d98bb86edf"
      },
      "execution_count": 45,
      "outputs": [
        {
          "output_type": "execute_result",
          "data": {
            "text/plain": [
              "tensor([3, 4, 2, 7, 2])"
            ]
          },
          "metadata": {},
          "execution_count": 45
        }
      ]
    },
    {
      "cell_type": "markdown",
      "source": [
        "# Loss Functions\n",
        "Cross Entropy Loss function is often used for classification problems, it works by taking the predicted probability for the correct label, so from above in the first row it would be its max value. It then logs this number so high probs (0.89etc) will have a value loss value closer to 0 and lower probs a loss value closer to 1.\n",
        "\n",
        "The average of all the losses is the overall loss for the batch.\n",
        "\n",
        "Access loss functions from `torch.nn`"
      ],
      "metadata": {
        "id": "hUExLGhizr7A"
      }
    },
    {
      "cell_type": "markdown",
      "source": [
        "# Training"
      ],
      "metadata": {
        "id": "HYuAkKIc5nL2"
      }
    },
    {
      "cell_type": "code",
      "source": [
        "loss_fn = nn.CrossEntropyLoss()\n",
        "optimizer = torch.optim.SGD(model.parameters(), lr = 0.001)"
      ],
      "metadata": {
        "id": "mjk8R3X46H6Y"
      },
      "execution_count": 46,
      "outputs": []
    },
    {
      "cell_type": "code",
      "source": [
        "def fit(total_epoch, model, training_loader, loss_fn, optimizer, validation_loader):\n",
        "  for epoch in range(total_epoch): # loops through number of epochs\n",
        "    train_loss = train(model, training_loader, loss_fn, optimizer)  # train the model for one epoch\n",
        "    val_loss, accuracy = validation(model, validation_loader, loss_fn) # after training for one epoch, run the validation() function to see how the model is doing on the validation dataset\n",
        "    print(\"Epoch: {}/{}, Training Loss: {}, Val Loss: {}, Val Accuracy: {}\".format(epoch+1, total_epoch, train_loss, val_loss, accuracy))\n",
        "    print('-' * 20)\n",
        "\n",
        "  print(\"Finished Training\")"
      ],
      "metadata": {
        "id": "Co3763ec7JfK"
      },
      "execution_count": 47,
      "outputs": []
    },
    {
      "cell_type": "code",
      "source": [
        "\n",
        "fit(5, model, training_loader, loss_fn, optimizer, validation_loader)"
      ],
      "metadata": {
        "id": "TVcomU5Tzrq-",
        "colab": {
          "base_uri": "https://localhost:8080/",
          "height": 0,
          "referenced_widgets": [
            "be6ae3d324194f2c858ab7aa21f17622",
            "da5034a4cc2646d99c667374cd4b6f11",
            "a730a1a43b134eca8f8de929fd4dfd44",
            "705179273dfe429b96b782031e3d7c67",
            "f3da76b32e3b4b29b11fc0003dd9006b",
            "4e610828bac24ea893f00c1d75f973e2",
            "d2cc894794aa4dc2ba4af3ef3aaa8e0b",
            "8a633e949a734107bfe656c2079302fa",
            "8f744f7559134f6d83aa9b3ebd748b0f",
            "43be27f3c24a48208146120fb9a75b3f",
            "383ccd3dbd664d73816739827e358616",
            "2fb0cdd044ea4f75b43089a7980efbd1",
            "2c620316abec42a090ef81c70a01cb88",
            "5739b19195c24565ae2f2a64689d42e0",
            "74362ed5c3f7400d9f8c919cdeeefefc",
            "fa893f5804084f9c91703dcf98220127",
            "6947b2b23c874b279620dfea6d58819e",
            "a597373d3e174de9abebf9ff339386c6",
            "a9676c0abf344b92be9a9a7b1f784103",
            "b151a06717e14e49ab46cfa6b8d86eca",
            "3ef76f203afc4791aea8daeb5a58aa12",
            "0184b3daa53c4894b4815a83788a62e0",
            "67604d69aeed4560804d869fc634a39b",
            "746d6398ba9942dda5129b2b069924e7",
            "f31d12e7bd1846b6b454334cf5811b4f",
            "e6a89bc7f62742d386e723e3ddae190b",
            "b116f22ce6dc4c45931b2a648c6881fe",
            "05837aa699884f6f8dc7f0da6397014a",
            "896c085bed6c402187c0c7da2d861b10",
            "be30a4d3bafc4bc8b1ce137543ea0969",
            "d42fedd0313e4112ba4f53dd92111a6a",
            "8668e37210b1444a990cf8e23e082b4d",
            "e7983b4dc76f4ab286ada76e179ccec7"
          ]
        },
        "outputId": "e7f07eec-78bc-495d-f46b-224feb837f9d"
      },
      "execution_count": null,
      "outputs": [
        {
          "output_type": "display_data",
          "data": {
            "text/plain": [
              "  0%|          | 0/782 [00:00<?, ?it/s]"
            ],
            "application/vnd.jupyter.widget-view+json": {
              "version_major": 2,
              "version_minor": 0,
              "model_id": "be6ae3d324194f2c858ab7aa21f17622"
            }
          },
          "metadata": {}
        },
        {
          "output_type": "display_data",
          "data": {
            "text/plain": [
              "  0%|          | 0/157 [00:00<?, ?it/s]"
            ],
            "application/vnd.jupyter.widget-view+json": {
              "version_major": 2,
              "version_minor": 0,
              "model_id": "2fb0cdd044ea4f75b43089a7980efbd1"
            }
          },
          "metadata": {}
        },
        {
          "output_type": "stream",
          "name": "stdout",
          "text": [
            "Epoch: 1/5, Training Loss: 1.970941414918436, Val Loss: 1.680884730284381, Val Accuracy: 0.7126\n",
            "--------------------\n"
          ]
        },
        {
          "output_type": "display_data",
          "data": {
            "text/plain": [
              "  0%|          | 0/782 [00:00<?, ?it/s]"
            ],
            "application/vnd.jupyter.widget-view+json": {
              "version_major": 2,
              "version_minor": 0,
              "model_id": "67604d69aeed4560804d869fc634a39b"
            }
          },
          "metadata": {}
        }
      ]
    },
    {
      "cell_type": "markdown",
      "source": [
        "# Testing + Saving & Loading Weights"
      ],
      "metadata": {
        "id": "YDeGfm2QF6Qp"
      }
    },
    {
      "cell_type": "code",
      "source": [
        "testing_ds"
      ],
      "metadata": {
        "id": "g5UZN13bWIFK"
      },
      "execution_count": null,
      "outputs": []
    },
    {
      "cell_type": "code",
      "source": [
        "image, label = testing_ds[340]\n",
        "plt.imshow(image[0],cmap='gray')\n",
        "x = image.unsqueeze(0)\n",
        "x = model(x)\n",
        "_,predictions = torch.max(x,1)\n",
        "print(f\"Predicted:{predictions[0].item()} Label:{label}\")"
      ],
      "metadata": {
        "id": "OFg8YeZhWJaB"
      },
      "execution_count": null,
      "outputs": []
    },
    {
      "cell_type": "code",
      "source": [
        "testing_loader = DataLoader(testing_ds,batch_size=10000,shuffle = False)\n",
        "loss, accuracy = validation(model, testing_loader, loss_fn)\n",
        "print(f\"Loss: {loss}, Accuracy: {accuracy}\")"
      ],
      "metadata": {
        "id": "p9yHF78HX_Q5"
      },
      "execution_count": null,
      "outputs": []
    },
    {
      "cell_type": "markdown",
      "source": [
        "## How to save weights and biases\n",
        "\n",
        "As the topology of loss landscapes can be vastly complex there is potential that your model may not have the best set of weights and biases as, you could well and truly be in a decent local minima, however there may be a better solution. As such you may want to train you model a few times and pick the best sets of weights and biases."
      ],
      "metadata": {
        "id": "_3OuYgqZaBir"
      }
    },
    {
      "cell_type": "code",
      "source": [
        "torch.save(model.state_dict(),'lr_model1') # returns an OrderedDict"
      ],
      "metadata": {
        "id": "8umEYGIBa3l-"
      },
      "execution_count": null,
      "outputs": []
    },
    {
      "cell_type": "markdown",
      "source": [
        "To retrain instantiate your model class"
      ],
      "metadata": {
        "id": "OjzHau5VbMYN"
      }
    },
    {
      "cell_type": "code",
      "source": [
        "pretrained_model = LrModel(784,10)"
      ],
      "metadata": {
        "id": "F8L1LlMubV_6"
      },
      "execution_count": null,
      "outputs": []
    },
    {
      "cell_type": "code",
      "source": [
        "pretrained_model.load_state_dict(torch.load('lr_model1'))"
      ],
      "metadata": {
        "id": "1-2RtD55e86K"
      },
      "execution_count": null,
      "outputs": []
    },
    {
      "cell_type": "code",
      "source": [
        "testing_loader = DataLoader(testing_ds,batch_size=10000,shuffle = False)\n",
        "loss, accuracy = validation(pretrained_model, testing_loader, loss_fn)\n",
        "print(f\"Loss: {loss}, Accuracy: {accuracy}\")"
      ],
      "metadata": {
        "id": "mlx5_wjKfHto"
      },
      "execution_count": null,
      "outputs": []
    }
  ]
}